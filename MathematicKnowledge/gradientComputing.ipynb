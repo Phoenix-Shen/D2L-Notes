{
 "cells": [
  {
   "cell_type": "markdown",
   "metadata": {},
   "source": [
    "# 自动求导\n",
    "之前的文档写的太过于简单了，现在又忘记了，所以再根据教程敲了一个。\n",
    "\n",
    "[Pytorch自动求导机制的详解](https://blog.csdn.net/weixin_44023658/article/details/107417063)"
   ]
  },
  {
   "cell_type": "code",
   "execution_count": 1,
   "metadata": {},
   "outputs": [],
   "source": [
    "import torch as t "
   ]
  },
  {
   "cell_type": "code",
   "execution_count": 2,
   "metadata": {},
   "outputs": [
    {
     "name": "stdout",
     "output_type": "stream",
     "text": [
      "True\n",
      "False\n",
      "True\n"
     ]
    }
   ],
   "source": [
    "# tensor 的 require_grad属性\n",
    "x= t.tensor(3.0,requires_grad=True)\n",
    "y = t.tensor(4.,requires_grad=False)\n",
    "z= t.pow(x,2)+t.pow(y,2)\n",
    "\n",
    "print(x.requires_grad)\n",
    "print(y.requires_grad)\n",
    "print(z.requires_grad)"
   ]
  },
  {
   "cell_type": "code",
   "execution_count": 3,
   "metadata": {},
   "outputs": [
    {
     "data": {
      "text/plain": [
       "(tensor(6.), None)"
      ]
     },
     "execution_count": 3,
     "metadata": {},
     "output_type": "execute_result"
    }
   ],
   "source": [
    "z.backward()\n",
    "x.grad,y.grad"
   ]
  },
  {
   "cell_type": "code",
   "execution_count": null,
   "metadata": {},
   "outputs": [],
   "source": [
    "# leaf variable 可导则z可导，这里我们x是可导的，所以就有梯度，如果x变成不可导的，那么就不行了"
   ]
  },
  {
   "cell_type": "markdown",
   "metadata": {},
   "source": [
    "#  默认的求导规则\n",
    "只能标量对标量进行求导、或者是标量对矩阵进行求导。\n",
    "\n",
    "前者就是我们上面的例子了，后者一般是我们对于损失函数进行求导，损失函数一般是进行sum或者mean之后的一个标量，然而我们神经网络中的参数一般都是矩阵，所以这时候需要对矩阵进行求导。\n",
    "\n",
    "在下面我们要验证`标量对于矩阵求导`的正确性\n",
    "\n",
    "$$\\mathbf{Y} = \\mathbf{W}  \\mathbf{x} + \\mathbf{b}$$"
   ]
  },
  {
   "cell_type": "code",
   "execution_count": 6,
   "metadata": {},
   "outputs": [
    {
     "data": {
      "text/plain": [
       "tensor(1.7830, grad_fn=<SumBackward0>)"
      ]
     },
     "execution_count": 6,
     "metadata": {},
     "output_type": "execute_result"
    }
   ],
   "source": [
    "X =t.tensor([1.5,2.,3.],requires_grad=False)\n",
    "# 由于w b是线性层的参数，我们需要追踪它们的梯度，所以设置require_grad\n",
    "W = t.tensor([0.1,0.2,0.3],requires_grad=True)\n",
    "b= t.tensor(0.111,requires_grad=True)\n",
    "Y = X*W+b\n",
    "Y=Y.sum()\n",
    "\n",
    "Y"
   ]
  },
  {
   "cell_type": "code",
   "execution_count": 7,
   "metadata": {},
   "outputs": [
    {
     "data": {
      "text/plain": [
       "(tensor([1.5000, 2.0000, 3.0000]), tensor(3.))"
      ]
     },
     "execution_count": 7,
     "metadata": {},
     "output_type": "execute_result"
    }
   ],
   "source": [
    "# 进行bp,W的梯度应该是1.5,2.,3.，b的梯度应该是1\n",
    "Y.backward()\n",
    "W.grad,b.grad\n"
   ]
  },
  {
   "cell_type": "markdown",
   "metadata": {},
   "source": [
    "# 多维度矩阵和复合函数\n",
    "上面已经成功验证了，没毛病，现在对于多维度的矩阵和复合函数进行试验\n",
    "$$\n",
    "\\begin{aligned}\\begin{split}\n",
    "\\mathbf{Y} & = 1+\\mathbf{X}\\\\\n",
    "\\mathbf{Z} & = \\mathbf{Y}^2\\\\\n",
    "\\end{split}\\end{aligned}\n",
    "$$"
   ]
  },
  {
   "cell_type": "code",
   "execution_count": 9,
   "metadata": {},
   "outputs": [],
   "source": [
    "X = t.tensor([[1.,2.,3.,],[4.,5.,6.]],requires_grad=True)\n",
    "Y = X +1 \n",
    "Z = 2*Y**2\n",
    "F = Z.mean()\n"
   ]
  },
  {
   "cell_type": "code",
   "execution_count": 10,
   "metadata": {},
   "outputs": [
    {
     "name": "stdout",
     "output_type": "stream",
     "text": [
      "True True True True\n"
     ]
    }
   ],
   "source": [
    "# 查看是否需要梯度计算\n",
    "print(\n",
    "    X.requires_grad,\n",
    "    Y.requires_grad,\n",
    "    Z.requires_grad,\n",
    "    F.requires_grad\n",
    ")"
   ]
  },
  {
   "cell_type": "code",
   "execution_count": 11,
   "metadata": {},
   "outputs": [
    {
     "data": {
      "text/plain": [
       "tensor([[1.3333, 2.0000, 2.6667],\n",
       "        [3.3333, 4.0000, 4.6667]])"
      ]
     },
     "execution_count": 11,
     "metadata": {},
     "output_type": "execute_result"
    }
   ],
   "source": [
    "F.backward()\n",
    "X.grad"
   ]
  },
  {
   "cell_type": "markdown",
   "metadata": {},
   "source": [
    "# 矩阵对矩阵求导\n",
    "需要通过传入gradient来实现"
   ]
  },
  {
   "cell_type": "code",
   "execution_count": 20,
   "metadata": {},
   "outputs": [
    {
     "data": {
      "text/plain": [
       "tensor([[0., 0., 0.],\n",
       "        [0., 0., 0.]])"
      ]
     },
     "execution_count": 20,
     "metadata": {},
     "output_type": "execute_result"
    }
   ],
   "source": [
    "X = t.tensor([[1.,2.,3.,],[4.,5.,6.]],requires_grad=True)\n",
    "Y  =X + X**2\n",
    "gradient = t.tensor([[1.,1.,1.],[1.,1.,1.]])\n",
    "# 在这里我们是对于Y的各个元素相对应的X进行求导\n",
    "Y.backward(gradient,retain_graph=True)\n",
    "\n",
    "X.grad\n",
    "#清除梯度\n",
    "X.grad.zero_()\n"
   ]
  },
  {
   "cell_type": "code",
   "execution_count": 21,
   "metadata": {},
   "outputs": [
    {
     "data": {
      "text/plain": [
       "tensor([[  3., 500.,   7.],\n",
       "        [  9.,  11.,  13.]])"
      ]
     },
     "execution_count": 21,
     "metadata": {},
     "output_type": "execute_result"
    }
   ],
   "source": [
    "# 如果我们修改一下gradient会发生什么呢？\n",
    "gradient = t.tensor([[1.,100.,1.],[1.,1.,1.]])\n",
    "Y.backward(gradient)\n",
    "X.grad\n",
    "\n"
   ]
  },
  {
   "cell_type": "markdown",
   "metadata": {},
   "source": [
    "可以看到，最后求出来的grad是根据gradient相乘而得到的。\n",
    "1. gradient.shape = Y.shape\n",
    "2. 每一个元素表示Y对应位置的元素所对应的权重\n",
    "\n",
    "\n",
    "# Retrain Graph And Create Graph\n",
    "如果我们有以下的计算:\n",
    "\n",
    "$$\n",
    "\\begin{split}\\begin{aligned}\n",
    "y = f_1(x)\\\\\n",
    "z= f_2(x)\\\\\n",
    "p=g_1(y)\\\\\n",
    "q=g_2(z)\\\\\n",
    "\\end{aligned}\\end{split}\n",
    "$$\n",
    "\n",
    "一个计算图在进行反向传播求导之后，它就销毁了，如果还要求导就会报错了，除非你知道你在做什么，否则不要去用它。\n",
    "\n",
    "在上面的例子中，我们对p进行求导，然后计算图就被销毁了，然后不论是调用q.backward()还是p.backward()都会报错。\n",
    "\n",
    "用处是在强化学习中更新Actor的时候会用到。\n"
   ]
  }
 ],
 "metadata": {
  "interpreter": {
   "hash": "b663eacfcde8320daa8b7b495561284796d4e9f74e2ac923461b7db3a12d2a31"
  },
  "kernelspec": {
   "display_name": "Python 3.9.7 ('base')",
   "language": "python",
   "name": "python3"
  },
  "language_info": {
   "codemirror_mode": {
    "name": "ipython",
    "version": 3
   },
   "file_extension": ".py",
   "mimetype": "text/x-python",
   "name": "python",
   "nbconvert_exporter": "python",
   "pygments_lexer": "ipython3",
   "version": "3.9.7"
  },
  "orig_nbformat": 4
 },
 "nbformat": 4,
 "nbformat_minor": 2
}
