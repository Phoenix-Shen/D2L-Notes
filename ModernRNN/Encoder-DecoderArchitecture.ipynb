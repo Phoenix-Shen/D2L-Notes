{
 "cells": [
  {
   "cell_type": "markdown",
   "metadata": {},
   "source": [
    "# 编码器-解码器架构\n",
    "1. encoder的功能是接受一个可变长序列作为输入，然后转换为固定的编码状态\n",
    "2. decoder的功能是将固定形状的编码状态映射到长度可变的序列\n",
    "\n",
    "以上就是编码器-解码器架构\n",
    "\n",
    "![](../figures/Enc-DecArch.png)"
   ]
  },
  {
   "cell_type": "code",
   "execution_count": 2,
   "metadata": {},
   "outputs": [],
   "source": [
    "import torch as t\n",
    "import torch.nn as nn\n",
    "\n",
    "class Encoder(nn.Module):\n",
    "    def __init__(self,**kwargs):\n",
    "        super(Encoder,self).__init__(**kwargs)\n",
    "    \n",
    "    def forward(self,X:t.Tensor,*args):\n",
    "        raise NotImplementedError\n",
    "\n",
    "class Decoder(nn.Module):\n",
    "    def __init__(self,**kwargs):\n",
    "        super(Decoder,self).__init__(**kwargs)\n",
    "    \n",
    "    def init_state(self,enc_outputs,*args):\n",
    "        raise NotImplementedError\n",
    "        \n",
    "    def forward(self,X:t.Tensor,state):\n",
    "        raise NotImplementedError"
   ]
  },
  {
   "cell_type": "code",
   "execution_count": 3,
   "metadata": {},
   "outputs": [],
   "source": [
    "class EncoderDecoder(nn.Module):\n",
    "    def __init__(self,encoder:Encoder,decoder:Decoder,**kwargs):\n",
    "        super().__init__(**kwargs)\n",
    "        self.encoder=encoder\n",
    "        self.decoder=decoder\n",
    "    \n",
    "    def forward(self,enc_X:t.Tensor,dec_X:t.Tensor,*args)->tuple[t.Tensor,t.Tensor]:\n",
    "        \"\"\"\n",
    "        前向传播函数\n",
    "        \"\"\"\n",
    "        enc_outputs=self.encoder(enc_X,*args)\n",
    "        dec_state=self.decoder.init_state(enc_outputs,*args)\n",
    "        return self.decoder.forward(dec_X,dec_state)"
   ]
  },
  {
   "cell_type": "code",
   "execution_count": null,
   "metadata": {},
   "outputs": [],
   "source": []
  }
 ],
 "metadata": {
  "interpreter": {
   "hash": "32fe4a0c0b23bf2d0ff7b6ec889b7996b95e9e7ff48467869f67c8fd61e3e485"
  },
  "kernelspec": {
   "display_name": "Python 3.9.7 ('base')",
   "language": "python",
   "name": "python3"
  },
  "language_info": {
   "codemirror_mode": {
    "name": "ipython",
    "version": 3
   },
   "file_extension": ".py",
   "mimetype": "text/x-python",
   "name": "python",
   "nbconvert_exporter": "python",
   "pygments_lexer": "ipython3",
   "version": "3.9.7"
  },
  "orig_nbformat": 4
 },
 "nbformat": 4,
 "nbformat_minor": 2
}
