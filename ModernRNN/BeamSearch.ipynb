{
 "cells": [
  {
   "cell_type": "markdown",
   "metadata": {},
   "source": [
    "# 束搜索 beam search\n",
    "在seq2seq中我们使用了贪心搜索来预测序列即将当期暗时刻预测概率最大的词输出，但是它可能不是最优解\n",
    "\n",
    "最好的办法是使用枚举方法，将每个可能的情况都列举出来，但是这个可能超出了计算机的处理范围。\n",
    "\n",
    "所以我们又进行一个折中-——束搜索\n",
    "\n",
    "## 束搜索\n",
    "- 保存最好的$k$个候选\n",
    "- 在每个时刻，对每个候选新加一项(n中可能),在Kn个选项中选出最好的k个"
   ]
  }
 ],
 "metadata": {
  "language_info": {
   "name": "python"
  },
  "orig_nbformat": 4
 },
 "nbformat": 4,
 "nbformat_minor": 2
}
